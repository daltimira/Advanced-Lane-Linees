{
 "cells": [
  {
   "cell_type": "markdown",
   "metadata": {},
   "source": [
    "# Self-Driving Car Engineer Nanodegree\n",
    "\n",
    "\n",
    "## Project: **Advanced Lane Finding** \n",
    "***\n",
    "The goal of this project is to write software pipeline to identify the lane boundaries in a video from a front-facing camera. \n",
    "\n",
    "The project include three steps:\n",
    "* Camera calibration: compute the camera matrix and distortion coefficients. \n",
    "* Develop a pipeline for lane finding in single images.\n",
    "* Develop a pipeline for lane finding in video."
   ]
  },
  {
   "cell_type": "markdown",
   "metadata": {},
   "source": [
    "## Camera Calibration"
   ]
  },
  {
   "cell_type": "markdown",
   "metadata": {},
   "source": [
    "The distortion matrix is used to un-distort the calibration image provided to demonstrate that the calibration is correct. Example of a distortion corrected calibration image:"
   ]
  },
  {
   "cell_type": "markdown",
   "metadata": {},
   "source": [
    "## Pipeline (test images)"
   ]
  },
  {
   "cell_type": "markdown",
   "metadata": {},
   "source": [
    "The aim of this section is to provide a pipeline of a test image and perform the following steps:\n",
    "* Undistort the image (distortion correction).\n",
    "* Create a binary image that contains a likely lane pixes (use color transforms, gradients).\n",
    "* Perform a perspective transform: rectify the image to a \"birds-eye view\".\n",
    "* Identify lane line pixels in the rectified binary images and fit the positions with a polynomial.\n",
    "* Calculate the radius of curvature of the lane and the position of the vehicle with respect to center: take the measurements of where the lane lines are and estimate how much the road is curving and where the vehicle is located (deviation of the midpoint of the lane from the center of the image). \n",
    "* Provide an example image of the result plotted back down onto the roadsuch taht the lane area is identified clearly: the fit from the rectified image has been warped back onto the original image and plotted to identify the lane boundaries. Display image with lanes, info of the curvature and position from the center."
   ]
  },
  {
   "cell_type": "markdown",
   "metadata": {},
   "source": [
    "## Pipeline (video)"
   ]
  },
  {
   "cell_type": "markdown",
   "metadata": {},
   "source": [
    "Run the above pipeline in a video. Lines, curvature and vehicle position are identified at every frame. Usse information from prior detection to inform the search for the position of the lines in subsequent frames of the video.\n",
    "\n",
    "Smoothing for lane detection (low pass filter?). Add each new detection to a weighted mean of the position of the liens to avoid jitter."
   ]
  },
  {
   "cell_type": "markdown",
   "metadata": {},
   "source": [
    "## Discussion"
   ]
  },
  {
   "cell_type": "markdown",
   "metadata": {},
   "source": [
    "Discuss problems, issues during implementation. When the pipeline might fail. What can be done to make it more robust."
   ]
  },
  {
   "cell_type": "markdown",
   "metadata": {},
   "source": [
    "## Import Packages"
   ]
  },
  {
   "cell_type": "code",
   "execution_count": 3,
   "metadata": {},
   "outputs": [],
   "source": [
    "#importing some useful packages need to import\n",
    "import matplotlib.pyplot as plt\n",
    "import matplotlib.image as mpimg\n",
    "import numpy as np\n",
    "import cv2\n",
    "%matplotlib inline"
   ]
  },
  {
   "cell_type": "markdown",
   "metadata": {},
   "source": [
    "## Read in an Image"
   ]
  },
  {
   "cell_type": "code",
   "execution_count": 4,
   "metadata": {},
   "outputs": [
    {
     "ename": "FileNotFoundError",
     "evalue": "[Errno 2] No such file or directory: 'test_images/solidWhiteRight.jpg'",
     "output_type": "error",
     "traceback": [
      "\u001b[0;31m---------------------------------------------------------------------------\u001b[0m",
      "\u001b[0;31mFileNotFoundError\u001b[0m                         Traceback (most recent call last)",
      "\u001b[0;32m<ipython-input-4-2b620861b715>\u001b[0m in \u001b[0;36m<module>\u001b[0;34m\u001b[0m\n\u001b[1;32m      1\u001b[0m \u001b[0;31m#reading in an image\u001b[0m\u001b[0;34m\u001b[0m\u001b[0;34m\u001b[0m\u001b[0m\n\u001b[0;32m----> 2\u001b[0;31m \u001b[0mimage\u001b[0m \u001b[0;34m=\u001b[0m \u001b[0mmpimg\u001b[0m\u001b[0;34m.\u001b[0m\u001b[0mimread\u001b[0m\u001b[0;34m(\u001b[0m\u001b[0;34m'test_images/solidWhiteRight.jpg'\u001b[0m\u001b[0;34m)\u001b[0m\u001b[0;34m\u001b[0m\u001b[0m\n\u001b[0m\u001b[1;32m      3\u001b[0m \u001b[0;34m\u001b[0m\u001b[0m\n\u001b[1;32m      4\u001b[0m \u001b[0;31m#printing out some stats and plotting\u001b[0m\u001b[0;34m\u001b[0m\u001b[0;34m\u001b[0m\u001b[0m\n\u001b[1;32m      5\u001b[0m \u001b[0mprint\u001b[0m\u001b[0;34m(\u001b[0m\u001b[0;34m'This image is:'\u001b[0m\u001b[0;34m,\u001b[0m \u001b[0mtype\u001b[0m\u001b[0;34m(\u001b[0m\u001b[0mimage\u001b[0m\u001b[0;34m)\u001b[0m\u001b[0;34m,\u001b[0m \u001b[0;34m'with dimensions:'\u001b[0m\u001b[0;34m,\u001b[0m \u001b[0mimage\u001b[0m\u001b[0;34m.\u001b[0m\u001b[0mshape\u001b[0m\u001b[0;34m)\u001b[0m\u001b[0;34m\u001b[0m\u001b[0m\n",
      "\u001b[0;32m~/miniconda3/envs/carnd-term1/lib/python3.5/site-packages/matplotlib/image.py\u001b[0m in \u001b[0;36mimread\u001b[0;34m(fname, format)\u001b[0m\n\u001b[1;32m   1225\u001b[0m \u001b[0;34m\u001b[0m\u001b[0m\n\u001b[1;32m   1226\u001b[0m     \u001b[0;32mif\u001b[0m \u001b[0mext\u001b[0m \u001b[0;32mnot\u001b[0m \u001b[0;32min\u001b[0m \u001b[0mhandlers\u001b[0m\u001b[0;34m:\u001b[0m\u001b[0;34m\u001b[0m\u001b[0m\n\u001b[0;32m-> 1227\u001b[0;31m         \u001b[0mim\u001b[0m \u001b[0;34m=\u001b[0m \u001b[0mpilread\u001b[0m\u001b[0;34m(\u001b[0m\u001b[0mfname\u001b[0m\u001b[0;34m)\u001b[0m\u001b[0;34m\u001b[0m\u001b[0m\n\u001b[0m\u001b[1;32m   1228\u001b[0m         \u001b[0;32mif\u001b[0m \u001b[0mim\u001b[0m \u001b[0;32mis\u001b[0m \u001b[0;32mNone\u001b[0m\u001b[0;34m:\u001b[0m\u001b[0;34m\u001b[0m\u001b[0m\n\u001b[1;32m   1229\u001b[0m             raise ValueError('Only know how to handle extensions: %s; '\n",
      "\u001b[0;32m~/miniconda3/envs/carnd-term1/lib/python3.5/site-packages/matplotlib/image.py\u001b[0m in \u001b[0;36mpilread\u001b[0;34m(fname)\u001b[0m\n\u001b[1;32m   1203\u001b[0m         \u001b[0;32mexcept\u001b[0m \u001b[0mImportError\u001b[0m\u001b[0;34m:\u001b[0m\u001b[0;34m\u001b[0m\u001b[0m\n\u001b[1;32m   1204\u001b[0m             \u001b[0;32mreturn\u001b[0m \u001b[0;32mNone\u001b[0m\u001b[0;34m\u001b[0m\u001b[0m\n\u001b[0;32m-> 1205\u001b[0;31m         \u001b[0;32mwith\u001b[0m \u001b[0mImage\u001b[0m\u001b[0;34m.\u001b[0m\u001b[0mopen\u001b[0m\u001b[0;34m(\u001b[0m\u001b[0mfname\u001b[0m\u001b[0;34m)\u001b[0m \u001b[0;32mas\u001b[0m \u001b[0mimage\u001b[0m\u001b[0;34m:\u001b[0m\u001b[0;34m\u001b[0m\u001b[0m\n\u001b[0m\u001b[1;32m   1206\u001b[0m             \u001b[0;32mreturn\u001b[0m \u001b[0mpil_to_array\u001b[0m\u001b[0;34m(\u001b[0m\u001b[0mimage\u001b[0m\u001b[0;34m)\u001b[0m\u001b[0;34m\u001b[0m\u001b[0m\n\u001b[1;32m   1207\u001b[0m \u001b[0;34m\u001b[0m\u001b[0m\n",
      "\u001b[0;32m~/miniconda3/envs/carnd-term1/lib/python3.5/site-packages/PIL/Image.py\u001b[0m in \u001b[0;36mopen\u001b[0;34m(fp, mode)\u001b[0m\n\u001b[1;32m   2528\u001b[0m \u001b[0;34m\u001b[0m\u001b[0m\n\u001b[1;32m   2529\u001b[0m     \u001b[0;32mif\u001b[0m \u001b[0mfilename\u001b[0m\u001b[0;34m:\u001b[0m\u001b[0;34m\u001b[0m\u001b[0m\n\u001b[0;32m-> 2530\u001b[0;31m         \u001b[0mfp\u001b[0m \u001b[0;34m=\u001b[0m \u001b[0mbuiltins\u001b[0m\u001b[0;34m.\u001b[0m\u001b[0mopen\u001b[0m\u001b[0;34m(\u001b[0m\u001b[0mfilename\u001b[0m\u001b[0;34m,\u001b[0m \u001b[0;34m\"rb\"\u001b[0m\u001b[0;34m)\u001b[0m\u001b[0;34m\u001b[0m\u001b[0m\n\u001b[0m\u001b[1;32m   2531\u001b[0m         \u001b[0mexclusive_fp\u001b[0m \u001b[0;34m=\u001b[0m \u001b[0;32mTrue\u001b[0m\u001b[0;34m\u001b[0m\u001b[0m\n\u001b[1;32m   2532\u001b[0m \u001b[0;34m\u001b[0m\u001b[0m\n",
      "\u001b[0;31mFileNotFoundError\u001b[0m: [Errno 2] No such file or directory: 'test_images/solidWhiteRight.jpg'"
     ]
    }
   ],
   "source": [
    "#reading in an image\n",
    "image = mpimg.imread('test_images/solidWhiteRight.jpg')\n",
    "\n",
    "#printing out some stats and plotting\n",
    "print('This image is:', type(image), 'with dimensions:', image.shape)\n",
    "plt.imshow(image)  # if you wanted to show a single color channel image called 'gray', for example, call as plt.imshow(gray, cmap='gray')"
   ]
  },
  {
   "cell_type": "markdown",
   "metadata": {},
   "source": [
    "## Helper Functions"
   ]
  },
  {
   "cell_type": "markdown",
   "metadata": {},
   "source": [
    "Below are some helper functions to help get you started. They should look familiar from the lesson!"
   ]
  },
  {
   "cell_type": "code",
   "execution_count": null,
   "metadata": {},
   "outputs": [],
   "source": [
    "import math\n",
    "import numpy as np\n",
    "\n",
    "def grayscale(img):\n",
    "    \"\"\"Applies the Grayscale transform\n",
    "    This will return an image with only one color channel\n",
    "    but NOTE: to see the returned image as grayscale\n",
    "    (assuming your grayscaled image is called 'gray')\n",
    "    you should call plt.imshow(gray, cmap='gray')\"\"\"\n",
    "    return cv2.cvtColor(img, cv2.COLOR_RGB2GRAY)\n",
    "    # Or use BGR2GRAY if you read an image with cv2.imread()\n",
    "    # return cv2.cvtColor(img, cv2.COLOR_BGR2GRAY)\n",
    "    \n",
    "def canny(img, low_threshold, high_threshold):\n",
    "    \"\"\"Applies the Canny transform\"\"\"\n",
    "    return cv2.Canny(img, low_threshold, high_threshold)\n",
    "\n",
    "def gaussian_blur(img, kernel_size):\n",
    "    \"\"\"Applies a Gaussian Noise kernel\"\"\"\n",
    "    return cv2.GaussianBlur(img, (kernel_size, kernel_size), 0)\n",
    "\n",
    "def region_of_interest(img, vertices):\n",
    "    \"\"\"\n",
    "    Applies an image mask.\n",
    "    \n",
    "    Only keeps the region of the image defined by the polygon\n",
    "    formed from `vertices`. The rest of the image is set to black.\n",
    "    `vertices` should be a numpy array of integer points.\n",
    "    \"\"\"\n",
    "    #defining a blank mask to start with\n",
    "    mask = np.zeros_like(img)   \n",
    "    \n",
    "    #defining a 3 channel or 1 channel color to fill the mask with depending on the input image\n",
    "    if len(img.shape) > 2:\n",
    "        channel_count = img.shape[2]  # i.e. 3 or 4 depending on your image\n",
    "        ignore_mask_color = (255,) * channel_count\n",
    "    else:\n",
    "        ignore_mask_color = 255\n",
    "        \n",
    "    #filling pixels inside the polygon defined by \"vertices\" with the fill color    \n",
    "    cv2.fillPoly(mask, vertices, ignore_mask_color)\n",
    "    \n",
    "    #returning the image only where mask pixels are nonzero\n",
    "    masked_image = cv2.bitwise_and(img, mask)\n",
    "    return masked_image\n",
    "\n",
    "def calculate_lines(lines):\n",
    "    \"\"\"\n",
    "    From the lines of the hough transform, calculate the interpolated position of the lines\n",
    "    \"\"\"\n",
    "    # seperate the x coordinates and y coordinates of the right and left lane segments\n",
    "    rightX = []\n",
    "    rightY = []\n",
    "    leftX = []\n",
    "    leftY = []\n",
    "    for line in lines:\n",
    "        for x1,y1,x2,y2 in line:\n",
    "            # let's seperate the right and left based on the slope value\n",
    "            slope = (y2-y1) / (x2-x1)\n",
    "            \n",
    "            # We discard lines with slope close to zero because they can introduce noise\n",
    "            if (slope < -0.3):\n",
    "                rightX.append(x1)\n",
    "                rightX.append(x2)\n",
    "                rightY.append(y1)\n",
    "                rightY.append(y2)\n",
    "            else:\n",
    "                if (slope > 0.3):\n",
    "                    leftX.append(x1)\n",
    "                    leftX.append(x2)\n",
    "                    leftY.append(y1)\n",
    "                    leftY.append(y2)    \n",
    "                \n",
    "    coefR = np.polyfit(rightX, rightY, 1)\n",
    "    coefL = np.polyfit(leftX, leftY, 1)\n",
    "    \n",
    "    # These are the values of the region interest for the y coordinate (they are fix values)\n",
    "    Ymax = 539\n",
    "    Ymin = 320\n",
    "    \n",
    "    # Lets calcualte the corresponding x coordinate for the right and left line\n",
    "    Xmax_right = int((Ymax - coefR[1])/coefR[0])\n",
    "    Xmin_right = int((Ymin - coefR[1])/coefR[0])\n",
    "    Xmax_left = int((Ymax - coefL[1])/coefL[0])\n",
    "    Xmin_left = int((Ymin - coefL[1])/coefL[0])\n",
    "    \n",
    "    # return the coordinates of the two lines (right and left)\n",
    "    return [Ymax, Ymin, Xmax_right, Xmin_right, Xmax_left, Xmin_left] \n",
    "\n",
    "def draw_lines(img, lines, color=[255, 0, 0], thickness=5):\n",
    "    \"\"\"\n",
    "    NOTE: this is the function you might want to use as a starting point once you want to \n",
    "    average/extrapolate the line segments you detect to map out the full\n",
    "    extent of the lane (going from the result shown in raw-lines-example.mp4\n",
    "    to that shown in P1_example.mp4).  \n",
    "    \n",
    "    Think about things like separating line segments by their \n",
    "    slope ((y2-y1)/(x2-x1)) to decide which segments are part of the left\n",
    "    line vs. the right line.  Then, you can average the position of each of \n",
    "    the lines and extrapolate to the top and bottom of the lane.\n",
    "    \n",
    "    This function draws `lines` with `color` and `thickness`.    \n",
    "    Lines are drawn on the image inplace (mutates the image).\n",
    "    If you want to make the lines semi-transparent, think about combining\n",
    "    this function with the weighted_img() function below\n",
    "    \"\"\"\n",
    "    \n",
    "    lines_processed = calculate_lines(lines)\n",
    "    \n",
    "    # lines processed return an array of values with this format:\n",
    "    # [Ymax, Ymin, Xmax_right, Xmin_right, Xmax_left, Xmin_left]\n",
    "    \n",
    "    Ymax = lines_processed[0]\n",
    "    Ymin = lines_processed[1]\n",
    "    Xmax_right = lines_processed[2]\n",
    "    Xmin_right = lines_processed[3]\n",
    "    Xmax_left = lines_processed[4]\n",
    "    Xmin_left = lines_processed[5]\n",
    "    \n",
    "    cv2.line(img, (Xmin_left, Ymin), (Xmax_left, Ymax), color, thickness)\n",
    "    cv2.line(img, (Xmin_right, Ymin), (Xmax_right, Ymax), color, thickness)\n",
    "    \n",
    "def hough_lines(img, rho, theta, threshold, min_line_len, max_line_gap):\n",
    "    \"\"\"\n",
    "    `img` should be the output of a Canny transform.\n",
    "        \n",
    "    Returns an image with hough lines drawn.\n",
    "    \"\"\"\n",
    "    line_img = np.zeros((img.shape[0], img.shape[1], 3), dtype=np.uint8)\n",
    "    lines = cv2.HoughLinesP(img, rho, theta, threshold, np.array([]), minLineLength=min_line_len, maxLineGap=max_line_gap)\n",
    "    draw_lines(line_img, lines)\n",
    "    return line_img\n",
    "\n",
    "# Python 3 has support for cool math symbols.\n",
    "\n",
    "def weighted_img(img, initial_img, α=0.8, β=1., γ=0.):\n",
    "    \"\"\"\n",
    "    `img` is the output of the hough_lines(), An image with lines drawn on it.\n",
    "    Should be a blank image (all black) with lines drawn on it.\n",
    "    \n",
    "    `initial_img` should be the image before any processing.\n",
    "    \n",
    "    The result image is computed as follows:\n",
    "    \n",
    "    initial_img * α + img * β + γ\n",
    "    NOTE: initial_img and img must be the same shape!\n",
    "    \"\"\"\n",
    "    return cv2.addWeighted(initial_img, α, img, β, γ)"
   ]
  },
  {
   "cell_type": "markdown",
   "metadata": {},
   "source": [
    "## Test Images\n",
    "\n",
    "Build your pipeline to work on the images in the directory \"test_images\"  \n",
    "**You should make sure your pipeline works well on these images before you try the videos.**"
   ]
  },
  {
   "cell_type": "code",
   "execution_count": null,
   "metadata": {},
   "outputs": [],
   "source": [
    "import os\n",
    "os.listdir(\"test_images/\")"
   ]
  },
  {
   "cell_type": "markdown",
   "metadata": {},
   "source": [
    "## Build a Lane Finding Pipeline\n",
    "\n"
   ]
  },
  {
   "cell_type": "markdown",
   "metadata": {},
   "source": [
    "Build the pipeline and run your solution on all test_images. Make copies into the `test_images_output` directory, and you can use the images in your writeup report.\n",
    "\n",
    "Try tuning the various parameters, especially the low and high Canny thresholds as well as the Hough lines parameters."
   ]
  },
  {
   "cell_type": "code",
   "execution_count": null,
   "metadata": {},
   "outputs": [],
   "source": [
    "# TODO: Build your pipeline that will draw lane lines on the test_images\n",
    "# then save them to the test_images_output directory.\n",
    "\n",
    "import matplotlib.image as mpimg\n",
    "\n",
    "testImages = os.listdir(\"test_images/\")\n",
    "\n",
    "for imageName in testImages:\n",
    "    imageOriginal = mpimg.imread('test_images/'+imageName)\n",
    "    image = np.copy(imageOriginal) # We will process the image and keep imageOriginal as intact\n",
    "\n",
    "    # Lets first obtain a mask based on color. We need to take into account that we need to get both yellow and white\n",
    "    # We remove the blue chanel, to detect both white and yellow\n",
    "    red_threshold = 200\n",
    "    green_threshold = 200\n",
    "\n",
    "    rgb_threshold = [red_threshold, green_threshold]\n",
    "\n",
    "    color_thresholds = (image[:,:,0] < rgb_threshold[0]) | \\\n",
    "                        (image[:,:,1] < rgb_threshold[1]) \n",
    "\n",
    "    image[color_thresholds] = [0, 0, 0]\n",
    "\n",
    "    # We convert the image to grayscale\n",
    "    image = grayscale(image)\n",
    "\n",
    "    # We then apply some gaussian filtering to smooth the image and reduce some artifacts\n",
    "    kernel_size_smooth = 5\n",
    "    image = gaussian_blur(image, kernel_size_smooth)\n",
    "\n",
    "    # We apply Canny edge detection in order te detect edges\n",
    "    # I selected high threshold in order to detect what apparently can be visually \"one line\" for each side of the \n",
    "    # road. The high threshold is the most important as determines which one definetly selected\n",
    "    low_threshold = 50\n",
    "    high_threshold = 150\n",
    "    edges = canny(image, low_threshold, high_threshold)\n",
    "\n",
    "    # We then apply some filtering through region. I do this after canny, as if I do before, the canny edge detection \n",
    "    # detect the boundaries of the polygon of of the region\n",
    "    vertices = np.array( [[[150,539],[900,539],[520,320], [450,320]]] )\n",
    "    edges = region_of_interest(edges, vertices)\n",
    "\n",
    "    # Now we apply a hough transform in order to find the lines\n",
    "    rho = 1\n",
    "    theta = np.pi/180\n",
    "    threshold = 10\n",
    "    min_line_len = 3\n",
    "    max_line_gap = 10\n",
    "    lines = hough_lines(edges, rho, theta, threshold, min_line_len, max_line_gap)\n",
    "\n",
    "    # Lets compute the final image\n",
    "    resultImg = weighted_img(lines, imageOriginal)\n",
    "\n",
    "    cv2.imwrite('test_images_output/'+imageName, cv2.cvtColor(resultImg, cv2.COLOR_RGB2BGR))\n",
    "\n",
    "    plt.imshow(resultImg)"
   ]
  },
  {
   "cell_type": "markdown",
   "metadata": {},
   "source": [
    "## Test on Videos\n",
    "\n",
    "You know what's cooler than drawing lanes over images? Drawing lanes over video!\n",
    "\n",
    "We can test our solution on two provided videos:\n",
    "\n",
    "`solidWhiteRight.mp4`\n",
    "\n",
    "`solidYellowLeft.mp4`\n",
    "\n",
    "**Note: if you get an import error when you run the next cell, try changing your kernel (select the Kernel menu above --> Change Kernel). Still have problems? Try relaunching Jupyter Notebook from the terminal prompt. Also, consult the forums for more troubleshooting tips.**\n",
    "\n",
    "**If you get an error that looks like this:**\n",
    "```\n",
    "NeedDownloadError: Need ffmpeg exe. \n",
    "You can download it by calling: \n",
    "imageio.plugins.ffmpeg.download()\n",
    "```\n",
    "**Follow the instructions in the error message and check out [this forum post](https://discussions.udacity.com/t/project-error-of-test-on-videos/274082) for more troubleshooting tips across operating systems.**"
   ]
  },
  {
   "cell_type": "code",
   "execution_count": null,
   "metadata": {},
   "outputs": [],
   "source": [
    "# Import everything needed to edit/save/watch video clips\n",
    "from moviepy.editor import VideoFileClip\n",
    "from IPython.display import HTML\n",
    "from collections import deque"
   ]
  },
  {
   "cell_type": "code",
   "execution_count": null,
   "metadata": {},
   "outputs": [],
   "source": [
    "Xmax_right_history = deque(maxlen=10)\n",
    "Xmin_right_history = deque(maxlen=10)\n",
    "Xmax_left_history = deque(maxlen=10)\n",
    "Xmin_left_history = deque(maxlen=10)\n",
    "\n",
    "def process_image(image):\n",
    "    # NOTE: The output you return should be a color image (3 channel) for processing video below\n",
    "    # TODO: put your pipeline here,\n",
    "    # you should return the final output (image where lines are drawn on lanes)\n",
    "\n",
    "    # Lets first obtain a mask based on color. We need to take into account that we need to get both yellow and white\n",
    "    # We remove the blue chanel, to detect both white and yellow\n",
    "    \n",
    "    imageOriginal = np.copy(image)\n",
    "    \n",
    "    red_threshold = 200\n",
    "    green_threshold = 200\n",
    "\n",
    "    rgb_threshold = [red_threshold, green_threshold]\n",
    "\n",
    "    color_thresholds = (image[:,:,0] < rgb_threshold[0]) | \\\n",
    "                        (image[:,:,1] < rgb_threshold[1]) \n",
    "\n",
    "    image[color_thresholds] = [0, 0, 0]\n",
    "\n",
    "    # We convert the image to grayscale\n",
    "    image = grayscale(image)\n",
    "\n",
    "    # We then apply some gaussian filtering to smooth the image and reduce some artifacts\n",
    "    kernel_size_smooth = 5\n",
    "    image = gaussian_blur(image, kernel_size_smooth)\n",
    "\n",
    "    # We apply Canny edge detection in order te detect edges\n",
    "    # I selected high threshold in order to detect what apparently can be visually \"one line\" for each side of the \n",
    "    # road. The high threshold is the most important as determines which one definetly selected\n",
    "    low_threshold = 50\n",
    "    high_threshold = 150\n",
    "    edges = canny(image, low_threshold, high_threshold)\n",
    "\n",
    "    # We then apply some filtering through region. I do this after canny, as if I do before, the canny edge detection \n",
    "    # detect the boundaries of the polygon of of the region\n",
    "    vertices = np.array( [[[150,539],[900,539],[520,320], [450,320]]] )\n",
    "    edges = region_of_interest(edges, vertices)\n",
    "\n",
    "    # Now we apply a hough transform in order to find the lines\n",
    "    rho = 1\n",
    "    theta = np.pi/180\n",
    "    threshold = 10\n",
    "    min_line_len = 3\n",
    "    max_line_gap = 10\n",
    "    \n",
    "    # We get the lines of the hough transform\n",
    "    lines = cv2.HoughLinesP(edges, rho, theta, threshold, np.array([]), minLineLength=min_line_len, maxLineGap=max_line_gap) \n",
    "    \n",
    "    # We process the lines\n",
    "    lines_processed = calculate_lines(lines)\n",
    "    \n",
    "    # lines_processed has a form like: [Ymax, Ymin, Xmax_right, Xmin_right, Xmax_left, Xmin_left]\n",
    "    # We draw the lines into an image (line_img)\n",
    "    line_img = np.zeros((image.shape[0], image.shape[1], 3), dtype=np.uint8)\n",
    "    \n",
    "    Ymax = lines_processed[0]\n",
    "    Ymin = lines_processed[1]\n",
    "    \n",
    "    Xmax_right_history.append(lines_processed[2])\n",
    "    Xmin_right_history.append(lines_processed[3])\n",
    "    Xmax_left_history.append(lines_processed[4])\n",
    "    Xmin_left_history.append(lines_processed[5])\n",
    "\n",
    "    color=[255, 0, 0]\n",
    "    thickness=5\n",
    "    \n",
    "    cv2.line(line_img, (int(np.average(Xmin_left_history)), Ymin), (int(np.average(Xmax_left_history)), Ymax), color, thickness)\n",
    "    cv2.line(line_img, (int(np.average(Xmin_right_history)), Ymin), (int(np.average(Xmax_right_history)), Ymax), color, thickness)\n",
    "\n",
    "    # Lets compute the final image\n",
    "    resultImg = weighted_img(line_img, imageOriginal)\n",
    "\n",
    "    return resultImg"
   ]
  },
  {
   "cell_type": "markdown",
   "metadata": {},
   "source": [
    "Let's try the one with the solid white lane on the right first ..."
   ]
  },
  {
   "cell_type": "code",
   "execution_count": null,
   "metadata": {},
   "outputs": [],
   "source": [
    "white_output = 'test_videos_output/solidWhiteRight.mp4'\n",
    "## To speed up the testing process you may want to try your pipeline on a shorter subclip of the video\n",
    "## To do so add .subclip(start_second,end_second) to the end of the line below\n",
    "## Where start_second and end_second are integer values representing the start and end of the subclip\n",
    "## You may also uncomment the following line for a subclip of the first 5 seconds\n",
    "#clip1 = VideoFileClip(\"test_videos/solidWhiteRight.mp4\").subclip(0,5)\n",
    "clip1 = VideoFileClip(\"test_videos/solidWhiteRight.mp4\")\n",
    "white_clip = clip1.fl_image(process_image) #NOTE: this function expects color images!!\n",
    "%time white_clip.write_videofile(white_output, audio=False)"
   ]
  },
  {
   "cell_type": "markdown",
   "metadata": {},
   "source": [
    "Play the video inline, or if you prefer find the video in your filesystem (should be in the same directory) and play it in your video player of choice."
   ]
  },
  {
   "cell_type": "code",
   "execution_count": null,
   "metadata": {},
   "outputs": [],
   "source": [
    "HTML(\"\"\"\n",
    "<video width=\"960\" height=\"540\" controls>\n",
    "  <source src=\"{0}\">\n",
    "</video>\n",
    "\"\"\".format(white_output))"
   ]
  },
  {
   "cell_type": "markdown",
   "metadata": {},
   "source": [
    "## Improve the draw_lines() function\n",
    "\n",
    "**At this point, if you were successful with making the pipeline and tuning parameters, you probably have the Hough line segments drawn onto the road, but what about identifying the full extent of the lane and marking it clearly as in the example video (P1_example.mp4)?  Think about defining a line to run the full length of the visible lane based on the line segments you identified with the Hough Transform. As mentioned previously, try to average and/or extrapolate the line segments you've detected to map out the full extent of the lane lines. You can see an example of the result you're going for in the video \"P1_example.mp4\".**\n",
    "\n",
    "**Go back and modify your draw_lines function accordingly and try re-running your pipeline. The new output should draw a single, solid line over the left lane line and a single, solid line over the right lane line. The lines should start from the bottom of the image and extend out to the top of the region of interest.**"
   ]
  },
  {
   "cell_type": "markdown",
   "metadata": {},
   "source": [
    "Now for the one with the solid yellow lane on the left. This one's more tricky!"
   ]
  },
  {
   "cell_type": "code",
   "execution_count": null,
   "metadata": {},
   "outputs": [],
   "source": [
    "yellow_output = 'test_videos_output/solidYellowLeft.mp4'\n",
    "## To speed up the testing process you may want to try your pipeline on a shorter subclip of the video\n",
    "## To do so add .subclip(start_second,end_second) to the end of the line below\n",
    "## Where start_second and end_second are integer values representing the start and end of the subclip\n",
    "## You may also uncomment the following line for a subclip of the first 5 seconds\n",
    "##clip2 = VideoFileClip('test_videos/solidYellowLeft.mp4').subclip(0,5)\n",
    "clip2 = VideoFileClip('test_videos/solidYellowLeft.mp4')\n",
    "yellow_clip = clip2.fl_image(process_image)\n",
    "%time yellow_clip.write_videofile(yellow_output, audio=False)"
   ]
  },
  {
   "cell_type": "code",
   "execution_count": null,
   "metadata": {},
   "outputs": [],
   "source": [
    "HTML(\"\"\"\n",
    "<video width=\"960\" height=\"540\" controls>\n",
    "  <source src=\"{0}\">\n",
    "</video>\n",
    "\"\"\".format(yellow_output))"
   ]
  },
  {
   "cell_type": "markdown",
   "metadata": {},
   "source": [
    "## Writeup and Submission\n",
    "\n",
    "If you're satisfied with your video outputs, it's time to make the report writeup in a pdf or markdown file. Once you have this Ipython notebook ready along with the writeup, it's time to submit for review! Here is a [link](https://github.com/udacity/CarND-LaneLines-P1/blob/master/writeup_template.md) to the writeup template file.\n"
   ]
  },
  {
   "cell_type": "markdown",
   "metadata": {
    "collapsed": true
   },
   "source": [
    "## Optional Challenge\n",
    "\n",
    "Try your lane finding pipeline on the video below.  Does it still work?  Can you figure out a way to make it more robust?  If you're up for the challenge, modify your pipeline so it works with this video and submit it along with the rest of your project!"
   ]
  },
  {
   "cell_type": "code",
   "execution_count": null,
   "metadata": {},
   "outputs": [],
   "source": [
    "challenge_output = 'test_videos_output/challenge.mp4'\n",
    "## To speed up the testing process you may want to try your pipeline on a shorter subclip of the video\n",
    "## To do so add .subclip(start_second,end_second) to the end of the line below\n",
    "## Where start_second and end_second are integer values representing the start and end of the subclip\n",
    "## You may also uncomment the following line for a subclip of the first 5 seconds\n",
    "##clip3 = VideoFileClip('test_videos/challenge.mp4').subclip(0,5)\n",
    "clip3 = VideoFileClip('test_videos/challenge.mp4')\n",
    "challenge_clip = clip3.fl_image(process_image)\n",
    "%time challenge_clip.write_videofile(challenge_output, audio=False)"
   ]
  },
  {
   "cell_type": "code",
   "execution_count": null,
   "metadata": {},
   "outputs": [],
   "source": [
    "HTML(\"\"\"\n",
    "<video width=\"960\" height=\"540\" controls>\n",
    "  <source src=\"{0}\">\n",
    "</video>\n",
    "\"\"\".format(challenge_output))"
   ]
  },
  {
   "cell_type": "code",
   "execution_count": null,
   "metadata": {},
   "outputs": [],
   "source": []
  }
 ],
 "metadata": {
  "anaconda-cloud": {},
  "kernelspec": {
   "display_name": "Python 3",
   "language": "python",
   "name": "python3"
  },
  "language_info": {
   "codemirror_mode": {
    "name": "ipython",
    "version": 3
   },
   "file_extension": ".py",
   "mimetype": "text/x-python",
   "name": "python",
   "nbconvert_exporter": "python",
   "pygments_lexer": "ipython3",
   "version": "3.5.2"
  },
  "widgets": {
   "state": {},
   "version": "1.1.2"
  }
 },
 "nbformat": 4,
 "nbformat_minor": 1
}
